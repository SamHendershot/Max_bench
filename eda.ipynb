{
  "nbformat": 4,
  "nbformat_minor": 0,
  "metadata": {
    "colab": {
      "name": "eda.ipynb",
      "provenance": [],
      "collapsed_sections": []
    },
    "kernelspec": {
      "name": "python3",
      "display_name": "Python 3"
    },
    "language_info": {
      "name": "python"
    }
  },
  "cells": [
    {
      "cell_type": "code",
      "execution_count": null,
      "metadata": {
        "id": "NQ2Noyg67TYA"
      },
      "outputs": [],
      "source": [
        "import pandas as pd\n",
        "import seaborn as sns\n",
        "import numpy as np\n",
        "import matplotlib.pyplot as plt\n",
        "from google.colab import drive"
      ]
    },
    {
      "cell_type": "code",
      "source": [
        "drive.mount('/content/gdrive')"
      ],
      "metadata": {
        "colab": {
          "base_uri": "https://localhost:8080/"
        },
        "id": "Z_1hk-Np7V95",
        "outputId": "ce70c68a-ab3f-4a80-a032-fd2f60bf9121"
      },
      "execution_count": null,
      "outputs": [
        {
          "output_type": "stream",
          "name": "stdout",
          "text": [
            "Mounted at /content/gdrive\n"
          ]
        }
      ]
    },
    {
      "cell_type": "code",
      "source": [
        "datF = pd.read_csv('/content/gdrive/MyDrive/Powerlifting_project/lifting_data_female.csv', index_col=[0])\n",
        "datM = pd.read_csv('/content/gdrive/MyDrive/Powerlifting_project/lifting_data_male.csv', index_col=[0])\n",
        "fullData = pd.read_csv('/content/gdrive/MyDrive/Powerlifting_project/whole_data_set.csv', index_col=[0])"
      ],
      "metadata": {
        "id": "Zka_xHkZ4zbw"
      },
      "execution_count": null,
      "outputs": []
    },
    {
      "cell_type": "code",
      "source": [
        "fullData"
      ],
      "metadata": {
        "colab": {
          "base_uri": "https://localhost:8080/",
          "height": 424
        },
        "id": "yK0Kvp7f7awQ",
        "outputId": "60a25f34-1d5f-4bc4-c769-d4c7f52c8864"
      },
      "execution_count": null,
      "outputs": [
        {
          "output_type": "execute_result",
          "data": {
            "text/plain": [
              "                     Name Sex Equipment   Age  BodyweightKg  BestSquatKg  \\\n",
              "0            Carlos Ceron   M       Raw  23.0         87.30        205.0   \n",
              "1            Tito Herrera   M     Wraps  23.0         73.48        220.0   \n",
              "2             Levi Lehman   M       Raw  26.0        112.40        142.5   \n",
              "3           Stacy Hayford   F       Raw  35.0         59.42         95.0   \n",
              "4           Brittany Hirt   F       Raw  26.5         61.40        105.0   \n",
              "...                   ...  ..       ...   ...           ...          ...   \n",
              "11095    Dimitrios Rallis   M     Wraps  28.0         98.20        270.0   \n",
              "11096        Amber Skewes   F       Raw  36.0         58.80         92.5   \n",
              "11097        Brandon Mose   M       Raw  22.5         82.62        250.0   \n",
              "11098        Missy Lavoie   F     Wraps  28.0         74.30        105.0   \n",
              "11099  Alexandra Dahlgren   F       Raw  22.0         55.80        105.0   \n",
              "\n",
              "       BestDeadliftKg  BestBenchKg  \n",
              "0               235.0        125.0  \n",
              "1               260.0        157.5  \n",
              "2               220.0        145.0  \n",
              "3               102.5         60.0  \n",
              "4               127.5         60.0  \n",
              "...               ...          ...  \n",
              "11095           315.0        160.0  \n",
              "11096           137.5         57.5  \n",
              "11097           311.0        175.0  \n",
              "11098           152.5         70.0  \n",
              "11099           145.0         55.0  \n",
              "\n",
              "[29425 rows x 8 columns]"
            ],
            "text/html": [
              "\n",
              "  <div id=\"df-9291ecf7-8730-44dd-a27b-eeb8d7ec854f\">\n",
              "    <div class=\"colab-df-container\">\n",
              "      <div>\n",
              "<style scoped>\n",
              "    .dataframe tbody tr th:only-of-type {\n",
              "        vertical-align: middle;\n",
              "    }\n",
              "\n",
              "    .dataframe tbody tr th {\n",
              "        vertical-align: top;\n",
              "    }\n",
              "\n",
              "    .dataframe thead th {\n",
              "        text-align: right;\n",
              "    }\n",
              "</style>\n",
              "<table border=\"1\" class=\"dataframe\">\n",
              "  <thead>\n",
              "    <tr style=\"text-align: right;\">\n",
              "      <th></th>\n",
              "      <th>Name</th>\n",
              "      <th>Sex</th>\n",
              "      <th>Equipment</th>\n",
              "      <th>Age</th>\n",
              "      <th>BodyweightKg</th>\n",
              "      <th>BestSquatKg</th>\n",
              "      <th>BestDeadliftKg</th>\n",
              "      <th>BestBenchKg</th>\n",
              "    </tr>\n",
              "  </thead>\n",
              "  <tbody>\n",
              "    <tr>\n",
              "      <th>0</th>\n",
              "      <td>Carlos Ceron</td>\n",
              "      <td>M</td>\n",
              "      <td>Raw</td>\n",
              "      <td>23.0</td>\n",
              "      <td>87.30</td>\n",
              "      <td>205.0</td>\n",
              "      <td>235.0</td>\n",
              "      <td>125.0</td>\n",
              "    </tr>\n",
              "    <tr>\n",
              "      <th>1</th>\n",
              "      <td>Tito Herrera</td>\n",
              "      <td>M</td>\n",
              "      <td>Wraps</td>\n",
              "      <td>23.0</td>\n",
              "      <td>73.48</td>\n",
              "      <td>220.0</td>\n",
              "      <td>260.0</td>\n",
              "      <td>157.5</td>\n",
              "    </tr>\n",
              "    <tr>\n",
              "      <th>2</th>\n",
              "      <td>Levi Lehman</td>\n",
              "      <td>M</td>\n",
              "      <td>Raw</td>\n",
              "      <td>26.0</td>\n",
              "      <td>112.40</td>\n",
              "      <td>142.5</td>\n",
              "      <td>220.0</td>\n",
              "      <td>145.0</td>\n",
              "    </tr>\n",
              "    <tr>\n",
              "      <th>3</th>\n",
              "      <td>Stacy Hayford</td>\n",
              "      <td>F</td>\n",
              "      <td>Raw</td>\n",
              "      <td>35.0</td>\n",
              "      <td>59.42</td>\n",
              "      <td>95.0</td>\n",
              "      <td>102.5</td>\n",
              "      <td>60.0</td>\n",
              "    </tr>\n",
              "    <tr>\n",
              "      <th>4</th>\n",
              "      <td>Brittany Hirt</td>\n",
              "      <td>F</td>\n",
              "      <td>Raw</td>\n",
              "      <td>26.5</td>\n",
              "      <td>61.40</td>\n",
              "      <td>105.0</td>\n",
              "      <td>127.5</td>\n",
              "      <td>60.0</td>\n",
              "    </tr>\n",
              "    <tr>\n",
              "      <th>...</th>\n",
              "      <td>...</td>\n",
              "      <td>...</td>\n",
              "      <td>...</td>\n",
              "      <td>...</td>\n",
              "      <td>...</td>\n",
              "      <td>...</td>\n",
              "      <td>...</td>\n",
              "      <td>...</td>\n",
              "    </tr>\n",
              "    <tr>\n",
              "      <th>11095</th>\n",
              "      <td>Dimitrios Rallis</td>\n",
              "      <td>M</td>\n",
              "      <td>Wraps</td>\n",
              "      <td>28.0</td>\n",
              "      <td>98.20</td>\n",
              "      <td>270.0</td>\n",
              "      <td>315.0</td>\n",
              "      <td>160.0</td>\n",
              "    </tr>\n",
              "    <tr>\n",
              "      <th>11096</th>\n",
              "      <td>Amber Skewes</td>\n",
              "      <td>F</td>\n",
              "      <td>Raw</td>\n",
              "      <td>36.0</td>\n",
              "      <td>58.80</td>\n",
              "      <td>92.5</td>\n",
              "      <td>137.5</td>\n",
              "      <td>57.5</td>\n",
              "    </tr>\n",
              "    <tr>\n",
              "      <th>11097</th>\n",
              "      <td>Brandon Mose</td>\n",
              "      <td>M</td>\n",
              "      <td>Raw</td>\n",
              "      <td>22.5</td>\n",
              "      <td>82.62</td>\n",
              "      <td>250.0</td>\n",
              "      <td>311.0</td>\n",
              "      <td>175.0</td>\n",
              "    </tr>\n",
              "    <tr>\n",
              "      <th>11098</th>\n",
              "      <td>Missy Lavoie</td>\n",
              "      <td>F</td>\n",
              "      <td>Wraps</td>\n",
              "      <td>28.0</td>\n",
              "      <td>74.30</td>\n",
              "      <td>105.0</td>\n",
              "      <td>152.5</td>\n",
              "      <td>70.0</td>\n",
              "    </tr>\n",
              "    <tr>\n",
              "      <th>11099</th>\n",
              "      <td>Alexandra Dahlgren</td>\n",
              "      <td>F</td>\n",
              "      <td>Raw</td>\n",
              "      <td>22.0</td>\n",
              "      <td>55.80</td>\n",
              "      <td>105.0</td>\n",
              "      <td>145.0</td>\n",
              "      <td>55.0</td>\n",
              "    </tr>\n",
              "  </tbody>\n",
              "</table>\n",
              "<p>29425 rows × 8 columns</p>\n",
              "</div>\n",
              "      <button class=\"colab-df-convert\" onclick=\"convertToInteractive('df-9291ecf7-8730-44dd-a27b-eeb8d7ec854f')\"\n",
              "              title=\"Convert this dataframe to an interactive table.\"\n",
              "              style=\"display:none;\">\n",
              "        \n",
              "  <svg xmlns=\"http://www.w3.org/2000/svg\" height=\"24px\"viewBox=\"0 0 24 24\"\n",
              "       width=\"24px\">\n",
              "    <path d=\"M0 0h24v24H0V0z\" fill=\"none\"/>\n",
              "    <path d=\"M18.56 5.44l.94 2.06.94-2.06 2.06-.94-2.06-.94-.94-2.06-.94 2.06-2.06.94zm-11 1L8.5 8.5l.94-2.06 2.06-.94-2.06-.94L8.5 2.5l-.94 2.06-2.06.94zm10 10l.94 2.06.94-2.06 2.06-.94-2.06-.94-.94-2.06-.94 2.06-2.06.94z\"/><path d=\"M17.41 7.96l-1.37-1.37c-.4-.4-.92-.59-1.43-.59-.52 0-1.04.2-1.43.59L10.3 9.45l-7.72 7.72c-.78.78-.78 2.05 0 2.83L4 21.41c.39.39.9.59 1.41.59.51 0 1.02-.2 1.41-.59l7.78-7.78 2.81-2.81c.8-.78.8-2.07 0-2.86zM5.41 20L4 18.59l7.72-7.72 1.47 1.35L5.41 20z\"/>\n",
              "  </svg>\n",
              "      </button>\n",
              "      \n",
              "  <style>\n",
              "    .colab-df-container {\n",
              "      display:flex;\n",
              "      flex-wrap:wrap;\n",
              "      gap: 12px;\n",
              "    }\n",
              "\n",
              "    .colab-df-convert {\n",
              "      background-color: #E8F0FE;\n",
              "      border: none;\n",
              "      border-radius: 50%;\n",
              "      cursor: pointer;\n",
              "      display: none;\n",
              "      fill: #1967D2;\n",
              "      height: 32px;\n",
              "      padding: 0 0 0 0;\n",
              "      width: 32px;\n",
              "    }\n",
              "\n",
              "    .colab-df-convert:hover {\n",
              "      background-color: #E2EBFA;\n",
              "      box-shadow: 0px 1px 2px rgba(60, 64, 67, 0.3), 0px 1px 3px 1px rgba(60, 64, 67, 0.15);\n",
              "      fill: #174EA6;\n",
              "    }\n",
              "\n",
              "    [theme=dark] .colab-df-convert {\n",
              "      background-color: #3B4455;\n",
              "      fill: #D2E3FC;\n",
              "    }\n",
              "\n",
              "    [theme=dark] .colab-df-convert:hover {\n",
              "      background-color: #434B5C;\n",
              "      box-shadow: 0px 1px 3px 1px rgba(0, 0, 0, 0.15);\n",
              "      filter: drop-shadow(0px 1px 2px rgba(0, 0, 0, 0.3));\n",
              "      fill: #FFFFFF;\n",
              "    }\n",
              "  </style>\n",
              "\n",
              "      <script>\n",
              "        const buttonEl =\n",
              "          document.querySelector('#df-9291ecf7-8730-44dd-a27b-eeb8d7ec854f button.colab-df-convert');\n",
              "        buttonEl.style.display =\n",
              "          google.colab.kernel.accessAllowed ? 'block' : 'none';\n",
              "\n",
              "        async function convertToInteractive(key) {\n",
              "          const element = document.querySelector('#df-9291ecf7-8730-44dd-a27b-eeb8d7ec854f');\n",
              "          const dataTable =\n",
              "            await google.colab.kernel.invokeFunction('convertToInteractive',\n",
              "                                                     [key], {});\n",
              "          if (!dataTable) return;\n",
              "\n",
              "          const docLinkHtml = 'Like what you see? Visit the ' +\n",
              "            '<a target=\"_blank\" href=https://colab.research.google.com/notebooks/data_table.ipynb>data table notebook</a>'\n",
              "            + ' to learn more about interactive tables.';\n",
              "          element.innerHTML = '';\n",
              "          dataTable['output_type'] = 'display_data';\n",
              "          await google.colab.output.renderOutput(dataTable, element);\n",
              "          const docLink = document.createElement('div');\n",
              "          docLink.innerHTML = docLinkHtml;\n",
              "          element.appendChild(docLink);\n",
              "        }\n",
              "      </script>\n",
              "    </div>\n",
              "  </div>\n",
              "  "
            ]
          },
          "metadata": {},
          "execution_count": 13
        }
      ]
    },
    {
      "cell_type": "code",
      "source": [
        "# Distribution by Sex\n",
        "sns.boxplot(x='BestBenchKg', y='Sex', data=fullData)"
      ],
      "metadata": {
        "colab": {
          "base_uri": "https://localhost:8080/",
          "height": 296
        },
        "id": "p4CdF7Za8wh4",
        "outputId": "06674f3f-e3f2-4d7e-99ee-36145c24aeee"
      },
      "execution_count": null,
      "outputs": [
        {
          "output_type": "execute_result",
          "data": {
            "text/plain": [
              "<matplotlib.axes._subplots.AxesSubplot at 0x7fabe95e7d90>"
            ]
          },
          "metadata": {},
          "execution_count": 14
        },
        {
          "output_type": "display_data",
          "data": {
            "text/plain": [
              "<Figure size 432x288 with 1 Axes>"
            ],
            "image/png": "[encoded data removed]"
          },
          "metadata": {
            "needs_background": "light"
          }
        }
      ]
    },
    {
      "cell_type": "code",
      "source": [
        "# Normalizing distribution by Sex\n",
        "dfM_normal = datM[(datM['BestBenchKg'] < datM['BestBenchKg'].mean() + 3*datM['BestBenchKg'].std()) & \n",
        "                  (datM['BestBenchKg'] > datM['BestBenchKg'].mean() - 3*datM['BestBenchKg'].std())]\n",
        "\n",
        "dfF_normal = datF[(datF['BestBenchKg'] < datF['BestBenchKg'].mean() + 3*datF['BestBenchKg'].std()) & \n",
        "                  (datF['BestBenchKg'] > datF['BestBenchKg'].mean() - 3*datF['BestBenchKg'].std())]\n",
        "\n",
        "df_concat = pd.concat([dfM_normal, dfF_normal])"
      ],
      "metadata": {
        "id": "aC7Il7L18yEF"
      },
      "execution_count": null,
      "outputs": []
    },
    {
      "cell_type": "code",
      "source": [
        "sns.boxplot(x='BestBenchKg', y='Sex', data=df_concat)"
      ],
      "metadata": {
        "colab": {
          "base_uri": "https://localhost:8080/",
          "height": 296
        },
        "id": "mDq-U0_q9DXO",
        "outputId": "4ceb3d69-3faa-4197-8827-9c4e9fd2ba75"
      },
      "execution_count": null,
      "outputs": [
        {
          "output_type": "execute_result",
          "data": {
            "text/plain": [
              "<matplotlib.axes._subplots.AxesSubplot at 0x7fabe851e390>"
            ]
          },
          "metadata": {},
          "execution_count": 16
        },
        {
          "output_type": "display_data",
          "data": {
            "text/plain": [
              "<Figure size 432x288 with 1 Axes>"
            ],
            "image/png": "[encoded data removed]"
          },
          "metadata": {
            "needs_background": "light"
          }
        }
      ]
    },
    {
      "cell_type": "code",
      "source": [
        "sns.histplot(dfM_normal['BestBenchKg'], bins=20, color='red')\n",
        "plt.show()\n",
        "sns.histplot(dfF_normal['BestBenchKg'], bins=20, color='green')\n",
        "plt.show()"
      ],
      "metadata": {
        "colab": {
          "base_uri": "https://localhost:8080/",
          "height": 541
        },
        "id": "ml2zf7Ae9GRt",
        "outputId": "d398f900-79e5-4e8d-c03e-ed5d38bdee98"
      },
      "execution_count": null,
      "outputs": [
        {
          "output_type": "display_data",
          "data": {
            "text/plain": [
              "<Figure size 432x288 with 1 Axes>"
            ],
            "image/png": "[encoded data removed]"
          },
          "metadata": {
            "needs_background": "light"
          }
        },
        {
          "output_type": "display_data",
          "data": {
            "text/plain": [
              "<Figure size 432x288 with 1 Axes>"
            ],
            "image/png": "[encoded data removed]"
          },
          "metadata": {
            "needs_background": "light"
          }
        }
      ]
    },
    {
      "cell_type": "code",
      "source": [
        "# Seeing significant difference in mean weight lifted when/when not using equipment (Male)\n",
        "for i in dfM_normal['Equipment'].unique():\n",
        "    if i == 'Raw':\n",
        "        print('Mean bench (kg) for men when lifting ' + i + ': {:.2f} kg'.format(dfM_normal[ dfM_normal['Equipment'] == i ]['BestBenchKg'].mean()))\n",
        "    else:\n",
        "        print('Mean bench (kg) for men when lifting with ' + i + ': {:.2f} kg'.format(dfM_normal[ dfM_normal['Equipment'] == i ]['BestBenchKg'].mean()))"
      ],
      "metadata": {
        "colab": {
          "base_uri": "https://localhost:8080/"
        },
        "id": "PXuxK3Is9xfi",
        "outputId": "6b8b5747-a992-453b-bfa0-50b9b6260d74"
      },
      "execution_count": null,
      "outputs": [
        {
          "output_type": "stream",
          "name": "stdout",
          "text": [
            "Mean bench (kg) for men when lifting Raw: 131.53 kg\n",
            "Mean bench (kg) for men when lifting with Wraps: 148.27 kg\n",
            "Mean bench (kg) for men when lifting with Single-ply: 158.07 kg\n",
            "Mean bench (kg) for men when lifting with Multi-ply: 184.04 kg\n"
          ]
        }
      ]
    },
    {
      "cell_type": "code",
      "source": [
        "# Seeing significant difference in mean weight lifted when/when not using equipment (Female)\n",
        "for i in dfF_normal['Equipment'].unique():\n",
        "    if i == 'Raw':\n",
        "        print('Mean bench (kg) for women when lifting ' + i + ': {:.2f} kg'.format(dfF_normal[ dfF_normal['Equipment'] == i ]['BestBenchKg'].mean()))\n",
        "    else:\n",
        "        print('Mean bench (kg) for women when lifting with ' + i + ': {:.2f} kg'.format(dfF_normal[ dfF_normal['Equipment'] == i ]['BestBenchKg'].mean()))"
      ],
      "metadata": {
        "colab": {
          "base_uri": "https://localhost:8080/"
        },
        "id": "2IVxIyr_9_P6",
        "outputId": "3509d4de-5dac-4a6d-d926-a0fddf53b97d"
      },
      "execution_count": null,
      "outputs": [
        {
          "output_type": "stream",
          "name": "stdout",
          "text": [
            "Mean bench (kg) for women when lifting Raw: 61.44 kg\n",
            "Mean bench (kg) for women when lifting with Single-ply: 78.44 kg\n",
            "Mean bench (kg) for women when lifting with Wraps: 65.97 kg\n",
            "Mean bench (kg) for women when lifting with Multi-ply: 89.31 kg\n"
          ]
        }
      ]
    },
    {
      "cell_type": "code",
      "source": [
        "sns.boxplot(x='BestBenchKg', y='Equipment', data=dfF_normal)\n",
        "plt.show()\n",
        "sns.boxplot(x='BestBenchKg', y='Equipment', data=dfM_normal)\n",
        "plt.show()"
      ],
      "metadata": {
        "colab": {
          "base_uri": "https://localhost:8080/",
          "height": 541
        },
        "id": "BvQoEVzg-H0H",
        "outputId": "1b54a91c-59db-41cf-a7ad-960d12f09971"
      },
      "execution_count": null,
      "outputs": [
        {
          "output_type": "display_data",
          "data": {
            "text/plain": [
              "<Figure size 432x288 with 1 Axes>"
            ],
            "image/png": "[encoded data removed]"
          },
          "metadata": {
            "needs_background": "light"
          }
        },
        {
          "output_type": "display_data",
          "data": {
            "text/plain": [
              "<Figure size 432x288 with 1 Axes>"
            ],
            "image/png": "[encoded data removed]"
          },
          "metadata": {
            "needs_background": "light"
          }
        }
      ]
    },
    {
      "cell_type": "code",
      "source": [
        "sns.histplot(dfF_normal[dfF_normal['Equipment'] == 'Raw']['BestBenchKg'], bins=48)\n",
        "plt.show()\n",
        "sns.histplot(dfF_normal[dfF_normal['Equipment'] == 'Wraps']['BestBenchKg'], bins=40, color='green')\n",
        "plt.show()\n",
        "sns.histplot(dfF_normal[dfF_normal['Equipment'] == 'Single-ply']['BestBenchKg'], bins=15, color='red')\n",
        "plt.show()\n",
        "sns.histplot(dfF_normal[dfF_normal['Equipment'] == 'Multi-ply']['BestBenchKg'], bins=10, color='orange')\n",
        "plt.show()"
      ],
      "metadata": {
        "colab": {
          "base_uri": "https://localhost:8080/",
          "height": 1000
        },
        "id": "XpsxODYIONqt",
        "outputId": "945e3d70-8dd4-4d64-b325-246ca30cdffc"
      },
      "execution_count": null,
      "outputs": [
        {
          "output_type": "display_data",
          "data": {
            "text/plain": [
              "<Figure size 432x288 with 1 Axes>"
            ],
            "image/png": "[encoded data removed]"
          },
          "metadata": {
            "needs_background": "light"
          }
        },
        {
          "output_type": "display_data",
          "data": {
            "text/plain": [
              "<Figure size 432x288 with 1 Axes>"
            ],
            "image/png": "[encoded data removed]"
          },
          "metadata": {
            "needs_background": "light"
          }
        },
        {
          "output_type": "display_data",
          "data": {
            "text/plain": [
              "<Figure size 432x288 with 1 Axes>"
            ],
            "image/png": "[encoded data removed]"
          },
          "metadata": {
            "needs_background": "light"
          }
        },
        {
          "output_type": "display_data",
          "data": {
            "text/plain": [
              "<Figure size 432x288 with 1 Axes>"
            ],
            "image/png": "[encoded data removed]"
          },
          "metadata": {
            "needs_background": "light"
          }
        }
      ]
    },
    {
      "cell_type": "code",
      "source": [
        "sns.histplot(dfM_normal[dfM_normal['Equipment'] == 'Raw']['BestBenchKg'], bins=48)\n",
        "plt.show()\n",
        "sns.histplot(dfM_normal[dfM_normal['Equipment'] == 'Wraps']['BestBenchKg'], bins=40, color='green')\n",
        "plt.show()\n",
        "sns.histplot(dfM_normal[dfM_normal['Equipment'] == 'Single-ply']['BestBenchKg'], bins=15, color='red')\n",
        "plt.show()\n",
        "sns.histplot(dfM_normal[dfM_normal['Equipment'] == 'Multi-ply']['BestBenchKg'], bins=10, color='orange')\n",
        "plt.show()"
      ],
      "metadata": {
        "colab": {
          "base_uri": "https://localhost:8080/",
          "height": 1000
        },
        "id": "H0qQZYXEPLjX",
        "outputId": "3ffab15c-78bf-4a79-b6b6-1d211301f0f5"
      },
      "execution_count": null,
      "outputs": [
        {
          "output_type": "display_data",
          "data": {
            "text/plain": [
              "<Figure size 432x288 with 1 Axes>"
            ],
            "image/png": "[encoded data removed]"
          },
          "metadata": {
            "needs_background": "light"
          }
        },
        {
          "output_type": "display_data",
          "data": {
            "text/plain": [
              "<Figure size 432x288 with 1 Axes>"
            ],
            "image/png": "[encoded data removed]"
          },
          "metadata": {
            "needs_background": "light"
          }
        },
        {
          "output_type": "display_data",
          "data": {
            "text/plain": [
              "<Figure size 432x288 with 1 Axes>"
            ],
            "image/png": "[encoded data removed]"
          },
          "metadata": {
            "needs_background": "light"
          }
        },
        {
          "output_type": "display_data",
          "data": {
            "text/plain": [
              "<Figure size 432x288 with 1 Axes>"
            ],
            "image/png": "[encoded data removed]"
          },
          "metadata": {
            "needs_background": "light"
          }
        }
      ]
    },
    {
      "cell_type": "code",
      "source": [
        ""
      ],
      "metadata": {
        "id": "oVO0jac252ug"
      },
      "execution_count": null,
      "outputs": []
    }
  ]
}